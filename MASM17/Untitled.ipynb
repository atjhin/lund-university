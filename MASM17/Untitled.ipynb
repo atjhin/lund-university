{
 "cells": [
  {
   "cell_type": "code",
   "execution_count": 1,
   "id": "672c4b06",
   "metadata": {},
   "outputs": [],
   "source": [
    "import pandas as pd\n",
    "import tsa_lth.analysis as analysis\n",
    "from mat4py import loadmat"
   ]
  },
  {
   "cell_type": "code",
   "execution_count": 8,
   "id": "71c4305e",
   "metadata": {},
   "outputs": [],
   "source": [
    "data_dir = '/Users/alexandermichaeltjhin/Everything/Lund/MASM17/CourseMaterial/Code/data/'"
   ]
  },
  {
   "cell_type": "code",
   "execution_count": 9,
   "id": "21ce7d0c",
   "metadata": {},
   "outputs": [
    {
     "ename": "ParseError",
     "evalue": "Can only read from Matlab level 5 MAT-files",
     "output_type": "error",
     "traceback": [
      "\u001b[0;31m---------------------------------------------------------------------------\u001b[0m",
      "\u001b[0;31mParseError\u001b[0m                                Traceback (most recent call last)",
      "Cell \u001b[0;32mIn[9], line 1\u001b[0m\n\u001b[0;32m----> 1\u001b[0m \u001b[43mloadmat\u001b[49m\u001b[43m(\u001b[49m\u001b[43mdata_dir\u001b[49m\u001b[38;5;241;43m+\u001b[39;49m\u001b[38;5;124;43m'\u001b[39;49m\u001b[38;5;124;43mdataBoxJenkinsA.m\u001b[39;49m\u001b[38;5;124;43m'\u001b[39;49m\u001b[43m)\u001b[49m\n",
      "File \u001b[0;32m~/tsa_venv/lib/python3.9/site-packages/mat4py/loadmat.py:447\u001b[0m, in \u001b[0;36mloadmat\u001b[0;34m(filename, meta)\u001b[0m\n\u001b[1;32m    445\u001b[0m maj_val \u001b[38;5;241m=\u001b[39m \u001b[38;5;28mord\u001b[39m(tst_str[maj_ind]) \u001b[38;5;28;01mif\u001b[39;00m ispy2 \u001b[38;5;28;01melse\u001b[39;00m tst_str[maj_ind]\n\u001b[1;32m    446\u001b[0m \u001b[38;5;28;01mif\u001b[39;00m maj_val \u001b[38;5;241m!=\u001b[39m \u001b[38;5;241m1\u001b[39m:\n\u001b[0;32m--> 447\u001b[0m     \u001b[38;5;28;01mraise\u001b[39;00m ParseError(\u001b[38;5;124m'\u001b[39m\u001b[38;5;124mCan only read from Matlab level 5 MAT-files\u001b[39m\u001b[38;5;124m'\u001b[39m)\n\u001b[1;32m    448\u001b[0m \u001b[38;5;66;03m# the minor version number (unused value)\u001b[39;00m\n\u001b[1;32m    449\u001b[0m \u001b[38;5;66;03m# min_val = ord(tst_str[1 - maj_ind]) if ispy2 else tst_str[1 - maj_ind]\u001b[39;00m\n\u001b[1;32m    451\u001b[0m mdict \u001b[38;5;241m=\u001b[39m {}\n",
      "\u001b[0;31mParseError\u001b[0m: Can only read from Matlab level 5 MAT-files"
     ]
    }
   ],
   "source": [
    "loadmat(data_dir+'dataBoxJenkinsA.m')"
   ]
  },
  {
   "cell_type": "code",
   "execution_count": null,
   "id": "78b7d621",
   "metadata": {},
   "outputs": [],
   "source": [
    "data = pd.read_csv('')"
   ]
  },
  {
   "cell_type": "code",
   "execution_count": 8,
   "id": "e45f374b",
   "metadata": {},
   "outputs": [
    {
     "data": {
      "text/plain": [
       "<function tsa_lth.analysis.acf(y, maxOrd='auto', signLvl=0.05, plotIt=False, maOrder=0, includeZeroLag=True)>"
      ]
     },
     "execution_count": 8,
     "metadata": {},
     "output_type": "execute_result"
    }
   ],
   "source": [
    "analysis.acf"
   ]
  },
  {
   "cell_type": "code",
   "execution_count": null,
   "id": "bad5e903",
   "metadata": {},
   "outputs": [],
   "source": []
  }
 ],
 "metadata": {
  "kernelspec": {
   "display_name": "MASM17",
   "language": "python",
   "name": "tsa_venv"
  },
  "language_info": {
   "codemirror_mode": {
    "name": "ipython",
    "version": 3
   },
   "file_extension": ".py",
   "mimetype": "text/x-python",
   "name": "python",
   "nbconvert_exporter": "python",
   "pygments_lexer": "ipython3",
   "version": "3.9.12"
  }
 },
 "nbformat": 4,
 "nbformat_minor": 5
}
